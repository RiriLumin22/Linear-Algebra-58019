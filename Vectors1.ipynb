{
  "nbformat": 4,
  "nbformat_minor": 0,
  "metadata": {
    "colab": {
      "name": "Vectors1",
      "provenance": [],
      "authorship_tag": "ABX9TyPA+euuqdDoc7LOgnh6PF7Y",
      "include_colab_link": true
    },
    "kernelspec": {
      "name": "python3",
      "display_name": "Python 3"
    },
    "language_info": {
      "name": "python"
    }
  },
  "cells": [
    {
      "cell_type": "markdown",
      "metadata": {
        "id": "view-in-github",
        "colab_type": "text"
      },
      "source": [
        "<a href=\"https://colab.research.google.com/github/RiriLumin22/Linear-Algebra-58019/blob/main/Vectors1.ipynb\" target=\"_parent\"><img src=\"https://colab.research.google.com/assets/colab-badge.svg\" alt=\"Open In Colab\"/></a>"
      ]
    },
    {
      "cell_type": "code",
      "metadata": {
        "id": "zYn-L8ta2W6Q"
      },
      "source": [
        "#numpy\n",
        "import numpy as np\n",
        "a = np.array([1,2,3])\n",
        "print=(a)"
      ],
      "execution_count": 23,
      "outputs": []
    },
    {
      "cell_type": "code",
      "metadata": {
        "id": "yQ82NIdC3FbC"
      },
      "source": [
        "import numpy as np\n",
        "c = np.array ([[1,2,3],[4,5,6],[7,8,9]])\n",
        "print=(c)"
      ],
      "execution_count": 22,
      "outputs": []
    },
    {
      "cell_type": "code",
      "metadata": {
        "id": "dFNa67LI5aeJ"
      },
      "source": [
        ""
      ],
      "execution_count": null,
      "outputs": []
    }
  ]
}