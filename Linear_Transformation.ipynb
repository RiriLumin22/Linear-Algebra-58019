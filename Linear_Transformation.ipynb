{
  "nbformat": 4,
  "nbformat_minor": 0,
  "metadata": {
    "colab": {
      "name": "Linear Transformation",
      "provenance": [],
      "authorship_tag": "ABX9TyMYklYrTLYln1pgkt1Iw21n",
      "include_colab_link": true
    },
    "kernelspec": {
      "name": "python3",
      "display_name": "Python 3"
    },
    "language_info": {
      "name": "python"
    }
  },
  "cells": [
    {
      "cell_type": "markdown",
      "metadata": {
        "id": "view-in-github",
        "colab_type": "text"
      },
      "source": [
        "<a href=\"https://colab.research.google.com/github/RiriLumin22/Linear-Algebra-58019/blob/main/Linear_Transformation.ipynb\" target=\"_parent\"><img src=\"https://colab.research.google.com/assets/colab-badge.svg\" alt=\"Open In Colab\"/></a>"
      ]
    },
    {
      "cell_type": "markdown",
      "metadata": {
        "id": "CT5xFw9HQynC"
      },
      "source": [
        "##**To find the inverse of matrix, the matrix is passed to the linalg.inv() method of the Numpy module:**##"
      ]
    },
    {
      "cell_type": "code",
      "metadata": {
        "colab": {
          "base_uri": "https://localhost:8080/"
        },
        "id": "215nIZM3O_O9",
        "outputId": "54ab6cc1-9f37-48b9-8564-c34022a23f8d"
      },
      "source": [
        "import numpy as np\n",
        "A = np.array([[4,3],[-5,9]]) #creation of matrix A\n",
        "print(A)\n",
        "inv_A = np.linalg.inv(A)\n",
        "print(inv_A)"
      ],
      "execution_count": 1,
      "outputs": [
        {
          "output_type": "stream",
          "name": "stdout",
          "text": [
            "[[ 4  3]\n",
            " [-5  9]]\n",
            "[[ 0.17647059 -0.05882353]\n",
            " [ 0.09803922  0.07843137]]\n"
          ]
        }
      ]
    },
    {
      "cell_type": "code",
      "metadata": {
        "colab": {
          "base_uri": "https://localhost:8080/"
        },
        "id": "sRfgLyWrPBzl",
        "outputId": "abc9a607-32b5-4a90-cf82-789c668c51db"
      },
      "source": [
        "B = np.array([[20],[26]])\n",
        "print(B)"
      ],
      "execution_count": 2,
      "outputs": [
        {
          "output_type": "stream",
          "name": "stdout",
          "text": [
            "[[20]\n",
            " [26]]\n"
          ]
        }
      ]
    },
    {
      "cell_type": "code",
      "metadata": {
        "colab": {
          "base_uri": "https://localhost:8080/"
        },
        "id": "LRSFXD6NPEXN",
        "outputId": "845e4656-4bd4-4f15-da55-d10fab940d2c"
      },
      "source": [
        "X = np.linalg.inv(A).dot(B)\n",
        "print(X)"
      ],
      "execution_count": 3,
      "outputs": [
        {
          "output_type": "stream",
          "name": "stdout",
          "text": [
            "[[2.]\n",
            " [4.]]\n"
          ]
        }
      ]
    },
    {
      "cell_type": "code",
      "metadata": {
        "colab": {
          "base_uri": "https://localhost:8080/"
        },
        "id": "PzdyaPS0PGRe",
        "outputId": "30023eac-2bd7-470e-e34d-47c869b2a541"
      },
      "source": [
        "X = np.dot(inv_A,B)\n",
        "print(X)"
      ],
      "execution_count": 4,
      "outputs": [
        {
          "output_type": "stream",
          "name": "stdout",
          "text": [
            "[[2.]\n",
            " [4.]]\n"
          ]
        }
      ]
    },
    {
      "cell_type": "markdown",
      "metadata": {
        "id": "nhwkSYqTPJYl"
      },
      "source": [
        "##**ACTIVITY (Let's now solve a system of three linear equations:)**##"
      ]
    },
    {
      "cell_type": "code",
      "metadata": {
        "colab": {
          "base_uri": "https://localhost:8080/"
        },
        "id": "NlQJbyVUPItd",
        "outputId": "7e76001e-0989-4825-a9c9-7e7853337264"
      },
      "source": [
        "import numpy as np\n",
        "A = np.array([[4,3,2],[-2,2,3],[3,-5,2]]) #creation of matrix A\n",
        "print(A)\n",
        "print()\n",
        "inv_A = np.linalg.inv(A)\n",
        "print(inv_A)"
      ],
      "execution_count": 5,
      "outputs": [
        {
          "output_type": "stream",
          "name": "stdout",
          "text": [
            "[[ 4  3  2]\n",
            " [-2  2  3]\n",
            " [ 3 -5  2]]\n",
            "\n",
            "[[ 0.15447154 -0.1300813   0.04065041]\n",
            " [ 0.10569106  0.01626016 -0.1300813 ]\n",
            " [ 0.03252033  0.23577236  0.11382114]]\n"
          ]
        }
      ]
    },
    {
      "cell_type": "code",
      "metadata": {
        "colab": {
          "base_uri": "https://localhost:8080/"
        },
        "id": "b50nCNEIPPWu",
        "outputId": "2d70f171-633d-4f48-cf8b-b3cc91115c30"
      },
      "source": [
        "import numpy as np\n",
        "B= np.array([[25],[-10],[-4]])\n",
        "print(B)"
      ],
      "execution_count": 6,
      "outputs": [
        {
          "output_type": "stream",
          "name": "stdout",
          "text": [
            "[[ 25]\n",
            " [-10]\n",
            " [ -4]]\n"
          ]
        }
      ]
    },
    {
      "cell_type": "code",
      "metadata": {
        "colab": {
          "base_uri": "https://localhost:8080/"
        },
        "id": "hUQ2OzAZPR2G",
        "outputId": "66109754-c210-41a6-8366-1d78954c38dd"
      },
      "source": [
        "X = np.linalg.inv(A).dot(B)\n",
        "print(X)"
      ],
      "execution_count": 7,
      "outputs": [
        {
          "output_type": "stream",
          "name": "stdout",
          "text": [
            "[[ 5.]\n",
            " [ 3.]\n",
            " [-2.]]\n"
          ]
        }
      ]
    },
    {
      "cell_type": "code",
      "metadata": {
        "colab": {
          "base_uri": "https://localhost:8080/"
        },
        "id": "wMJH-tORPUWy",
        "outputId": "2eaee757-ea93-4236-a596-8eab3685bc54"
      },
      "source": [
        "X = np.dot(inv_A,B)\n",
        "print(X)"
      ],
      "execution_count": 8,
      "outputs": [
        {
          "output_type": "stream",
          "name": "stdout",
          "text": [
            "[[ 5.]\n",
            " [ 3.]\n",
            " [-2.]]\n"
          ]
        }
      ]
    },
    {
      "cell_type": "markdown",
      "metadata": {
        "id": "gj_GmWwgPW8P"
      },
      "source": [
        "##**APPLICATION**##"
      ]
    },
    {
      "cell_type": "code",
      "metadata": {
        "colab": {
          "base_uri": "https://localhost:8080/"
        },
        "id": "fmCsH-drPZ5Y",
        "outputId": "394dae46-37fa-4f04-dcff-a5894efadd5d"
      },
      "source": [
        "import numpy as np\n",
        "A = np.array([[20,10],[17,22]]) #creation of matrix A\n",
        "print(A)\n",
        "print()\n",
        "inv_A = np.linalg.inv(A)\n",
        "print(inv_A)"
      ],
      "execution_count": 9,
      "outputs": [
        {
          "output_type": "stream",
          "name": "stdout",
          "text": [
            "[[20 10]\n",
            " [17 22]]\n",
            "\n",
            "[[ 0.08148148 -0.03703704]\n",
            " [-0.06296296  0.07407407]]\n"
          ]
        }
      ]
    },
    {
      "cell_type": "code",
      "metadata": {
        "colab": {
          "base_uri": "https://localhost:8080/"
        },
        "id": "-NWsMSy8PskA",
        "outputId": "c4734ef6-9129-46a2-9730-fb14d74a074b"
      },
      "source": [
        "import numpy as np\n",
        "B= np.array([[350],[500]])\n",
        "print(B)"
      ],
      "execution_count": 10,
      "outputs": [
        {
          "output_type": "stream",
          "name": "stdout",
          "text": [
            "[[350]\n",
            " [500]]\n"
          ]
        }
      ]
    },
    {
      "cell_type": "code",
      "metadata": {
        "colab": {
          "base_uri": "https://localhost:8080/"
        },
        "id": "EupK7DI-P7eM",
        "outputId": "c5bc6f15-7b2d-4543-b0fa-e451635ce179"
      },
      "source": [
        "X = np.linalg.inv(A).dot(B)\n",
        "print(X)"
      ],
      "execution_count": 12,
      "outputs": [
        {
          "output_type": "stream",
          "name": "stdout",
          "text": [
            "[[10.]\n",
            " [15.]]\n"
          ]
        }
      ]
    },
    {
      "cell_type": "code",
      "metadata": {
        "colab": {
          "base_uri": "https://localhost:8080/"
        },
        "id": "-GkUMpwSP4Es",
        "outputId": "7346c729-8e0c-4293-d199-88fbbe81ea07"
      },
      "source": [
        "X = np.dot(inv_A,B)\n",
        "print(X)"
      ],
      "execution_count": 11,
      "outputs": [
        {
          "output_type": "stream",
          "name": "stdout",
          "text": [
            "[[10.]\n",
            " [15.]]\n"
          ]
        }
      ]
    },
    {
      "cell_type": "markdown",
      "metadata": {
        "id": "FXHQiIehRNRT"
      },
      "source": [
        "##**To check if the answer is correct**##"
      ]
    },
    {
      "cell_type": "code",
      "metadata": {
        "colab": {
          "base_uri": "https://localhost:8080/"
        },
        "id": "lOGsuuzyRMuw",
        "outputId": "6f691aa6-67bc-4691-c012-5661842def41"
      },
      "source": [
        "B = np.dot(A,X)\n",
        "print(B)"
      ],
      "execution_count": 13,
      "outputs": [
        {
          "output_type": "stream",
          "name": "stdout",
          "text": [
            "[[350.]\n",
            " [500.]]\n"
          ]
        }
      ]
    }
  ]
}