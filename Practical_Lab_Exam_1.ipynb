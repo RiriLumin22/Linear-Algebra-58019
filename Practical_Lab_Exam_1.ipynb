{
  "nbformat": 4,
  "nbformat_minor": 0,
  "metadata": {
    "colab": {
      "name": "Practical Lab Exam 1.ipynb",
      "provenance": [],
      "authorship_tag": "ABX9TyNts8XHQwVH45pzRpzaMAry",
      "include_colab_link": true
    },
    "kernelspec": {
      "name": "python3",
      "display_name": "Python 3"
    },
    "language_info": {
      "name": "python"
    }
  },
  "cells": [
    {
      "cell_type": "markdown",
      "metadata": {
        "id": "view-in-github",
        "colab_type": "text"
      },
      "source": [
        "<a href=\"https://colab.research.google.com/github/RiriLumin22/Linear-Algebra-58019/blob/main/Practical_Lab_Exam_1.ipynb\" target=\"_parent\"><img src=\"https://colab.research.google.com/assets/colab-badge.svg\" alt=\"Open In Colab\"/></a>"
      ]
    },
    {
      "cell_type": "markdown",
      "metadata": {
        "id": "IehjZyxYqrzA"
      },
      "source": [
        "##**Practical Lab Exam 1**"
      ]
    },
    {
      "cell_type": "markdown",
      "metadata": {
        "id": "L2N5CgjEqxB8"
      },
      "source": [
        "**Problem 1.**"
      ]
    },
    {
      "cell_type": "code",
      "metadata": {
        "colab": {
          "base_uri": "https://localhost:8080/"
        },
        "id": "8xoTHBK7ujfR",
        "outputId": "cd2a3897-4009-40e3-af1f-4a300e47c626"
      },
      "source": [
        "#Numpy\n",
        "\n",
        "import numpy as np\n",
        "\n",
        "A = np.array([[1,2,3],[4,5,6]])\n",
        "print(A) ###Display A\n",
        "print()\n",
        "B = np.array([[1,2],[3,4],[5,6]])\n",
        "print(B) ###Display B\n",
        "print()\n",
        "C = np.array([[1,2,3],[4,5,6],[7,8,9]])\n",
        "print(C) ###Display C\n",
        "print()\n",
        "D = np.array([[1,2],[3,4]])\n",
        "print(D) ###Display D\n",
        "print()\n",
        "\n",
        "dot = np.dot(A,B)\n",
        "print(dot) ###Display the dot product of A and B\n",
        "print()\n",
        "print(D+D) ###Display the sum of D+D\n",
        "print()\n",
        "print(2*C) ### C multiplied by 2"
      ],
      "execution_count": 9,
      "outputs": [
        {
          "output_type": "stream",
          "name": "stdout",
          "text": [
            "[[1 2 3]\n",
            " [4 5 6]]\n",
            "\n",
            "[[1 2]\n",
            " [3 4]\n",
            " [5 6]]\n",
            "\n",
            "[[1 2 3]\n",
            " [4 5 6]\n",
            " [7 8 9]]\n",
            "\n",
            "[[1 2]\n",
            " [3 4]]\n",
            "\n",
            "[[22 28]\n",
            " [49 64]]\n",
            "\n",
            "[[2 4]\n",
            " [6 8]]\n",
            "\n",
            "[[ 2  4  6]\n",
            " [ 8 10 12]\n",
            " [14 16 18]]\n"
          ]
        }
      ]
    },
    {
      "cell_type": "markdown",
      "metadata": {
        "id": "9-BjzZncvcxh"
      },
      "source": [
        "**Problem 2.**"
      ]
    },
    {
      "cell_type": "code",
      "metadata": {
        "colab": {
          "base_uri": "https://localhost:8080/"
        },
        "id": "AD_ly2h2vfY4",
        "outputId": "83a57fdf-c242-46fb-e875-be3031af4631"
      },
      "source": [
        "import numpy as np\n",
        "A = np.array([5,3,-1])\n",
        "\n",
        "print (\"Size of Array is:\", A.size) ###Display the size of the array\n",
        "print (\"Type of Array is:\", type(A)) ###Display the type of array\n",
        "print (\"Shape of Array is:\", A.shape) ###Display the shape of array\n",
        "print (\"Dimension of Array is:\", A.ndim) ###Display the dimension of array"
      ],
      "execution_count": 12,
      "outputs": [
        {
          "output_type": "stream",
          "name": "stdout",
          "text": [
            "Size of Array is: 3\n",
            "Type of Array is: <class 'numpy.ndarray'>\n",
            "Shape of Array is: (3,)\n",
            "Dimension of Array is: 1\n"
          ]
        }
      ]
    }
  ]
}