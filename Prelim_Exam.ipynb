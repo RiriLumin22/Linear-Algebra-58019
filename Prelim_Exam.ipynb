{
  "nbformat": 4,
  "nbformat_minor": 0,
  "metadata": {
    "colab": {
      "name": "Prelim Exam.ipynb",
      "provenance": [],
      "include_colab_link": true
    },
    "kernelspec": {
      "name": "python3",
      "display_name": "Python 3"
    },
    "language_info": {
      "name": "python"
    }
  },
  "cells": [
    {
      "cell_type": "markdown",
      "metadata": {
        "id": "view-in-github",
        "colab_type": "text"
      },
      "source": [
        "<a href=\"https://colab.research.google.com/github/RiriLumin22/Linear-Algebra-58019/blob/main/Prelim_Exam.ipynb\" target=\"_parent\"><img src=\"https://colab.research.google.com/assets/colab-badge.svg\" alt=\"Open In Colab\"/></a>"
      ]
    },
    {
      "cell_type": "markdown",
      "metadata": {
        "id": "UpYc_OTrh8uR"
      },
      "source": [
        "##**Prelim Exam**##"
      ]
    },
    {
      "cell_type": "markdown",
      "metadata": {
        "id": "4kglwU_FipNU"
      },
      "source": [
        "#Matrix C#"
      ]
    },
    {
      "cell_type": "code",
      "metadata": {
        "colab": {
          "base_uri": "https://localhost:8080/"
        },
        "id": "L2ToF7lxh7ud",
        "outputId": "5e0928eb-1b45-45fa-b3f4-9ff2e2e3099c"
      },
      "source": [
        "#Question1\n",
        "#Numpy\n",
        "\n",
        "import numpy as np\n",
        "C = np.array([[1,4,4,4],[4,1,4,4],[4,4,1,4],[4,4,4,1]]) ## A 4x4 matrix which displays the diagonal elements are all one (1s)\n",
        "print(C) ## Displays the result"
      ],
      "execution_count": null,
      "outputs": [
        {
          "output_type": "stream",
          "name": "stdout",
          "text": [
            "[[1 4 4 4]\n",
            " [4 1 4 4]\n",
            " [4 4 1 4]\n",
            " [4 4 4 1]]\n"
          ]
        }
      ]
    },
    {
      "cell_type": "code",
      "metadata": {
        "colab": {
          "base_uri": "https://localhost:8080/"
        },
        "id": "cHOMXFfyjwSz",
        "outputId": "ac219974-b450-4490-d4bf-b3d9b5d1b8f5"
      },
      "source": [
        "#Question2\n",
        "#Numpy\n",
        "\n",
        "import numpy as np\n",
        "C = np.array([[1,4,4,4],[4,1,4,4],[4,4,1,4],[4,4,4,1]]) ## A 4x4 matrix which is related to question 1 and that the values are doubled\n",
        "print(C) ## Display the result (diagonal elements are one (1s))\n",
        "print()\n",
        "print(C*2) ## Displays the result (Double the values)"
      ],
      "execution_count": 2,
      "outputs": [
        {
          "output_type": "stream",
          "name": "stdout",
          "text": [
            "[[1 4 4 4]\n",
            " [4 1 4 4]\n",
            " [4 4 1 4]\n",
            " [4 4 4 1]]\n",
            "\n",
            "[[2 8 8 8]\n",
            " [8 2 8 8]\n",
            " [8 8 2 8]\n",
            " [8 8 8 2]]\n"
          ]
        }
      ]
    },
    {
      "cell_type": "code",
      "metadata": {
        "colab": {
          "base_uri": "https://localhost:8080/"
        },
        "id": "RrUKm8ZZrDN4",
        "outputId": "b9f04b6b-a82e-4212-d055-58dceb5569c7"
      },
      "source": [
        "#Question3\n",
        "#Numpy\n",
        "\n",
        "import numpy as np\n",
        "A = np.array([2,7,4]) \n",
        "B = np.array([3,9,8])\n",
        "\n",
        "C = np.cross(A,B) ## Cross product of matrices A and B\n",
        "print(C) ## Display the result"
      ],
      "execution_count": null,
      "outputs": [
        {
          "output_type": "stream",
          "name": "stdout",
          "text": [
            "[20 -4 -3]\n"
          ]
        }
      ]
    }
  ]
}