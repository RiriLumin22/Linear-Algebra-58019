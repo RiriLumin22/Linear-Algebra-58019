{
  "nbformat": 4,
  "nbformat_minor": 0,
  "metadata": {
    "colab": {
      "name": "Midterm Exam",
      "provenance": [],
      "authorship_tag": "ABX9TyNow0K16tijACwo7xHada7J",
      "include_colab_link": true
    },
    "kernelspec": {
      "name": "python3",
      "display_name": "Python 3"
    },
    "language_info": {
      "name": "python"
    }
  },
  "cells": [
    {
      "cell_type": "markdown",
      "metadata": {
        "id": "view-in-github",
        "colab_type": "text"
      },
      "source": [
        "<a href=\"https://colab.research.google.com/github/RiriLumin22/Linear-Algebra-58019/blob/main/Midterm_Exam.ipynb\" target=\"_parent\"><img src=\"https://colab.research.google.com/assets/colab-badge.svg\" alt=\"Open In Colab\"/></a>"
      ]
    },
    {
      "cell_type": "markdown",
      "metadata": {
        "id": "woCzBBvvJNDz"
      },
      "source": [
        "##MIDTERM EXAM##"
      ]
    },
    {
      "cell_type": "markdown",
      "metadata": {
        "id": "UfVqmuqkEBsB"
      },
      "source": [
        "##**QUESTION 1**##"
      ]
    },
    {
      "cell_type": "code",
      "metadata": {
        "colab": {
          "base_uri": "https://localhost:8080/"
        },
        "id": "KDwoMq6zEA49",
        "outputId": "55afd7cf-0b46-4ae6-d471-51a1c5e3ae46"
      },
      "source": [
        "import numpy as np\n",
        "\n",
        "SM = np.array ([[1,2,3,4,5],[2,0,0,0,0],[3,0,0,0,0],[4,0,0,0,0],[5,0,0,0,0]]) #5x5 matrix\n",
        "print(SM) #displays a square matrix whose length is 5"
      ],
      "execution_count": 2,
      "outputs": [
        {
          "output_type": "stream",
          "name": "stdout",
          "text": [
            "[[1 2 3 4 5]\n",
            " [2 0 0 0 0]\n",
            " [3 0 0 0 0]\n",
            " [4 0 0 0 0]\n",
            " [5 0 0 0 0]]\n"
          ]
        }
      ]
    },
    {
      "cell_type": "markdown",
      "metadata": {
        "id": "DGKUfPE0EHTs"
      },
      "source": [
        "##**QUESTION 2**##"
      ]
    },
    {
      "cell_type": "code",
      "metadata": {
        "colab": {
          "base_uri": "https://localhost:8080/"
        },
        "id": "bNGa5D9mEKIS",
        "outputId": "63e2d108-6397-4aad-ce75-c3fa0bc1b2b6"
      },
      "source": [
        "import numpy as np\n",
        "A = np.array ([[1,1,1,1,],[0,1,1,1,],[0,0,1,1,],[0,0,0,1],]) \n",
        "print()\n",
        "print(A)"
      ],
      "execution_count": 11,
      "outputs": [
        {
          "output_type": "stream",
          "name": "stdout",
          "text": [
            "\n",
            "[[1 1 1 1]\n",
            " [0 1 1 1]\n",
            " [0 0 1 1]\n",
            " [0 0 0 1]]\n"
          ]
        }
      ]
    },
    {
      "cell_type": "markdown",
      "metadata": {
        "id": "r1zGHg3ZEQWU"
      },
      "source": [
        "##**QUESTION 3**##"
      ]
    },
    {
      "cell_type": "code",
      "metadata": {
        "colab": {
          "base_uri": "https://localhost:8080/"
        },
        "id": "gc9sE9tYETlb",
        "outputId": "3a14ce14-72dd-48fb-8e08-06b8ccbcdbc9"
      },
      "source": [
        "import numpy as np\n",
        "C = np.array([[1,2,3,4,5],[2,1,2,3,4],[3,2,1,2,3],[4,3,2,1,2],[5,4,3,2,1]]) #create a symmetrical matrix\n",
        "print(C)"
      ],
      "execution_count": 15,
      "outputs": [
        {
          "output_type": "stream",
          "name": "stdout",
          "text": [
            "[[1 2 3 4 5]\n",
            " [2 1 2 3 4]\n",
            " [3 2 1 2 3]\n",
            " [4 3 2 1 2]\n",
            " [5 4 3 2 1]]\n"
          ]
        }
      ]
    },
    {
      "cell_type": "markdown",
      "metadata": {
        "id": "rLwc1dnUEUXG"
      },
      "source": [
        "##**QUESTION 4**##"
      ]
    },
    {
      "cell_type": "code",
      "metadata": {
        "colab": {
          "base_uri": "https://localhost:8080/"
        },
        "id": "t-ndl9BxEWXX",
        "outputId": "3fc833fe-64a6-45a3-ff30-08df2f7cc81f"
      },
      "source": [
        "import numpy as np\n",
        "\n",
        "C = np.array ([[1,2,3],[2,3,3],[3,4,-2]])\n",
        "print(C)\n",
        "print()\n",
        "inv_C = np.linalg.inv(C) #creation of inverse matrix C\n",
        "print(inv_C) #displays inverse of matrix C"
      ],
      "execution_count": 3,
      "outputs": [
        {
          "output_type": "stream",
          "name": "stdout",
          "text": [
            "[[ 1  2  3]\n",
            " [ 2  3  3]\n",
            " [ 3  4 -2]]\n",
            "\n",
            "[[-3.6  3.2 -0.6]\n",
            " [ 2.6 -2.2  0.6]\n",
            " [-0.2  0.4 -0.2]]\n"
          ]
        }
      ]
    },
    {
      "cell_type": "markdown",
      "metadata": {
        "id": "NgmHQQS4EaUd"
      },
      "source": [
        "##**QUESTION 5**##"
      ]
    },
    {
      "cell_type": "code",
      "metadata": {
        "colab": {
          "base_uri": "https://localhost:8080/"
        },
        "id": "haiHO7IWEZQD",
        "outputId": "d5c3aaf6-b673-483b-f2d8-1d42bd7d898f"
      },
      "source": [
        "C = np.array ([[1,2,3], [2,3,3], [3,4,-2]]) #create Matrix C\n",
        "print(C)\n",
        "print()\n",
        "print (round(np.linalg.det(C))) #determinant of given matrix C from Question 4"
      ],
      "execution_count": 17,
      "outputs": [
        {
          "output_type": "stream",
          "name": "stdout",
          "text": [
            "[[ 1  2  3]\n",
            " [ 2  3  3]\n",
            " [ 3  4 -2]]\n",
            "\n",
            "5\n"
          ]
        }
      ]
    },
    {
      "cell_type": "markdown",
      "metadata": {
        "id": "9yIPcI8_ExIQ"
      },
      "source": [
        "##**QUESTION 6**##"
      ]
    },
    {
      "cell_type": "code",
      "metadata": {
        "colab": {
          "base_uri": "https://localhost:8080/"
        },
        "id": "ZT1f0FhgEzI0",
        "outputId": "6d10f55c-561b-482e-c671-c738680c094e"
      },
      "source": [
        "A = np.array([[5,4,1], [10,9,4], [10,13,15]])\n",
        "\n",
        "B = np.array([[[3.4], [8.8], [19.2]]])\n",
        "\n",
        "C = np.linalg.inv(A) @ B #root of the equation\n",
        "\n",
        "print(C)"
      ],
      "execution_count": 18,
      "outputs": [
        {
          "output_type": "stream",
          "name": "stdout",
          "text": [
            "[[[0.2]\n",
            "  [0.4]\n",
            "  [0.8]]]\n"
          ]
        }
      ]
    }
  ]
}