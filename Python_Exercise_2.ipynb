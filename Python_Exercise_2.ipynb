{
  "nbformat": 4,
  "nbformat_minor": 0,
  "metadata": {
    "colab": {
      "name": "Python Exercise 2.ipynb",
      "provenance": [],
      "authorship_tag": "ABX9TyO3cLxfdTRBR2GqbZ1gP0R4",
      "include_colab_link": true
    },
    "kernelspec": {
      "name": "python3",
      "display_name": "Python 3"
    },
    "language_info": {
      "name": "python"
    }
  },
  "cells": [
    {
      "cell_type": "markdown",
      "metadata": {
        "id": "view-in-github",
        "colab_type": "text"
      },
      "source": [
        "<a href=\"https://colab.research.google.com/github/RiriLumin22/Linear-Algebra-58019/blob/main/Python_Exercise_2.ipynb\" target=\"_parent\"><img src=\"https://colab.research.google.com/assets/colab-badge.svg\" alt=\"Open In Colab\"/></a>"
      ]
    },
    {
      "cell_type": "markdown",
      "metadata": {
        "id": "cZSsYuYMnqvA"
      },
      "source": [
        "##**Representing Vectors**"
      ]
    },
    {
      "cell_type": "code",
      "metadata": {
        "colab": {
          "base_uri": "https://localhost:8080/"
        },
        "id": "_4Kyrg6LnnLL",
        "outputId": "3e612fa5-9214-4db9-ebf3-388ea63a3386"
      },
      "source": [
        "import numpy as np\n",
        "\n",
        "A=np.array([4,3])\n",
        "B=np.array([2,-5])\n",
        "\n",
        "print('Vector A is',A)\n",
        "print('Vector B is',B)"
      ],
      "execution_count": 2,
      "outputs": [
        {
          "output_type": "stream",
          "name": "stdout",
          "text": [
            "Vector A is [4 3]\n",
            "Vector B is [ 2 -5]\n"
          ]
        }
      ]
    },
    {
      "cell_type": "markdown",
      "metadata": {
        "id": "-DOy3Tm5pLLU"
      },
      "source": [
        "##**Describing Vectors in NumPy**"
      ]
    },
    {
      "cell_type": "code",
      "metadata": {
        "colab": {
          "base_uri": "https://localhost:8080/"
        },
        "id": "BwabDXj-o9HT",
        "outputId": "77d12b3c-58d3-44a0-fe88-40f17309f721"
      },
      "source": [
        "###Checking shapes\n",
        "###Tells how many rows and columns\n",
        "\n",
        "import numpy as np\n",
        "ball1=np.array([1,2,3])\n",
        "ball2=np.array([0,1,-1])\n",
        "pool=np.array([ball1,ball2])\n",
        "pool.shape\n",
        "pool.ndim #Dimension"
      ],
      "execution_count": 6,
      "outputs": [
        {
          "output_type": "execute_result",
          "data": {
            "text/plain": [
              "2"
            ]
          },
          "metadata": {},
          "execution_count": 6
        }
      ]
    },
    {
      "cell_type": "code",
      "metadata": {
        "colab": {
          "base_uri": "https://localhost:8080/"
        },
        "id": "DdZrGQ9F1hhK",
        "outputId": "3644ada7-bc35-4269-8a5f-1448a87d86a5"
      },
      "source": [
        "U = np.array([[1,2,3],[4,5,6]])\n",
        "U"
      ],
      "execution_count": 34,
      "outputs": [
        {
          "output_type": "execute_result",
          "data": {
            "text/plain": [
              "array([[1, 2, 3],\n",
              "       [4, 5, 6]])"
            ]
          },
          "metadata": {},
          "execution_count": 34
        }
      ]
    },
    {
      "cell_type": "code",
      "metadata": {
        "colab": {
          "base_uri": "https://localhost:8080/"
        },
        "id": "aZtdswSs1n9j",
        "outputId": "90f38b1b-71a1-40cc-80eb-0e9f614b24ae"
      },
      "source": [
        "U = np.array([[1,2,3],[4,5,6]])\n",
        "U.shape"
      ],
      "execution_count": 35,
      "outputs": [
        {
          "output_type": "execute_result",
          "data": {
            "text/plain": [
              "(2, 3)"
            ]
          },
          "metadata": {},
          "execution_count": 35
        }
      ]
    },
    {
      "cell_type": "code",
      "metadata": {
        "colab": {
          "base_uri": "https://localhost:8080/"
        },
        "id": "ICkImF8Nqvav",
        "outputId": "6aa497e5-ad4d-4e40-af6e-c84632dffa01"
      },
      "source": [
        "U=np.array([[1,2,3],[4,5,6]])\n",
        "U.size"
      ],
      "execution_count": 10,
      "outputs": [
        {
          "output_type": "execute_result",
          "data": {
            "text/plain": [
              "6"
            ]
          },
          "metadata": {},
          "execution_count": 10
        }
      ]
    },
    {
      "cell_type": "code",
      "metadata": {
        "colab": {
          "base_uri": "https://localhost:8080/"
        },
        "id": "2ALrU76c1yqS",
        "outputId": "a51246a1-6d51-4c6f-bfc2-8b5d27699b9e"
      },
      "source": [
        "U = np.array([[1,2,3],[4,5,6]])\n",
        "U.ndim"
      ],
      "execution_count": 36,
      "outputs": [
        {
          "output_type": "execute_result",
          "data": {
            "text/plain": [
              "2"
            ]
          },
          "metadata": {},
          "execution_count": 36
        }
      ]
    },
    {
      "cell_type": "markdown",
      "metadata": {
        "id": "TZkarV-e11R0"
      },
      "source": [
        "##**Space**"
      ]
    },
    {
      "cell_type": "markdown",
      "metadata": {
        "id": "-kUfRydP2Ahh"
      },
      "source": [
        "##**Vector spaces are mathematical objects that abstractly capture the geometry and algebra of linear equations.**"
      ]
    },
    {
      "cell_type": "markdown",
      "metadata": {
        "id": "AnLU1UREtv6E"
      },
      "source": [
        "##**Addition of Vectors**"
      ]
    },
    {
      "cell_type": "code",
      "metadata": {
        "colab": {
          "base_uri": "https://localhost:8080/"
        },
        "id": "Dc_KkROMr_h2",
        "outputId": "935434f9-97e1-4097-f3a5-740231794e9f"
      },
      "source": [
        "addend1=np.array([0,0,0])\n",
        "addend2=np.array([1,1,0])\n",
        "sum=addend1+addend2\n",
        "sum"
      ],
      "execution_count": 11,
      "outputs": [
        {
          "output_type": "execute_result",
          "data": {
            "text/plain": [
              "array([1, 1, 0])"
            ]
          },
          "metadata": {},
          "execution_count": 11
        }
      ]
    },
    {
      "cell_type": "code",
      "metadata": {
        "colab": {
          "base_uri": "https://localhost:8080/"
        },
        "id": "aNWK2RYBux2u",
        "outputId": "268652d6-e5ad-42ee-9868-76bd45d9b3bd"
      },
      "source": [
        "addend1=np.array([0,0,0])\n",
        "addend2=np.array([1,1,0])\n",
        "resultant=np.add(addend1,addend2)\n",
        "resultant"
      ],
      "execution_count": 13,
      "outputs": [
        {
          "output_type": "execute_result",
          "data": {
            "text/plain": [
              "array([1, 1, 0])"
            ]
          },
          "metadata": {},
          "execution_count": 13
        }
      ]
    },
    {
      "cell_type": "markdown",
      "metadata": {
        "id": "jY6xkja9vRKm"
      },
      "source": [
        "##**Subtraction of Vectors**"
      ]
    },
    {
      "cell_type": "code",
      "metadata": {
        "colab": {
          "base_uri": "https://localhost:8080/"
        },
        "id": "ZB3QxnwFvVaC",
        "outputId": "ada4cd50-cf2d-49ec-dabe-1e9c487fa7e7"
      },
      "source": [
        "#You will subtract the components of addend2 from addend1 : addend1-addend2\n",
        "difference = addend1-addend2\n",
        "difference"
      ],
      "execution_count": 37,
      "outputs": [
        {
          "output_type": "execute_result",
          "data": {
            "text/plain": [
              "array([-1, -1,  0])"
            ]
          },
          "metadata": {},
          "execution_count": 37
        }
      ]
    },
    {
      "cell_type": "code",
      "metadata": {
        "colab": {
          "base_uri": "https://localhost:8080/"
        },
        "id": "0KN2jPEAvyR5",
        "outputId": "8ca0cd58-fb17-4c99-876c-106028bf3e21"
      },
      "source": [
        "difference2 = np.subtract(addend1,addend2)\n",
        "difference2"
      ],
      "execution_count": 38,
      "outputs": [
        {
          "output_type": "execute_result",
          "data": {
            "text/plain": [
              "array([-1, -1,  0])"
            ]
          },
          "metadata": {},
          "execution_count": 38
        }
      ]
    },
    {
      "cell_type": "markdown",
      "metadata": {
        "id": "5KlIAsaN0YMf"
      },
      "source": [
        "##**Scaling**"
      ]
    },
    {
      "cell_type": "code",
      "metadata": {
        "colab": {
          "base_uri": "https://localhost:8080/"
        },
        "id": "6DOOqnNV0MHZ",
        "outputId": "feb15b48-1d60-413d-87f6-888ecd1aca7e"
      },
      "source": [
        "A=np.array([1,5,8,9])\n",
        "S=5*A\n",
        "S"
      ],
      "execution_count": 30,
      "outputs": [
        {
          "output_type": "execute_result",
          "data": {
            "text/plain": [
              "array([ 5, 25, 40, 45])"
            ]
          },
          "metadata": {},
          "execution_count": 30
        }
      ]
    },
    {
      "cell_type": "markdown",
      "metadata": {
        "id": "sFDmVQ8lx5G5"
      },
      "source": [
        "##**Cross Product**"
      ]
    },
    {
      "cell_type": "code",
      "metadata": {
        "colab": {
          "base_uri": "https://localhost:8080/"
        },
        "id": "7f57lVjY2ice",
        "outputId": "9ac9dccc-4356-48de-9d37-da3dad17b906"
      },
      "source": [
        "A = np.array([2,3])\n",
        "B = np.array([1,7])\n",
        "\n",
        "#Compute the cross product of A and B\n",
        "cross = np.cross(A,B)\n",
        "cross"
      ],
      "execution_count": 40,
      "outputs": [
        {
          "output_type": "execute_result",
          "data": {
            "text/plain": [
              "array(11)"
            ]
          },
          "metadata": {},
          "execution_count": 40
        }
      ]
    },
    {
      "cell_type": "code",
      "metadata": {
        "colab": {
          "base_uri": "https://localhost:8080/"
        },
        "id": "TeODhGhrx6s2",
        "outputId": "077573f5-5ec4-4007-bab3-0d9fc69d8af2"
      },
      "source": [
        "import numpy as np\n",
        "\n",
        "#initialize arrays\n",
        "A=np.array([2,3,4])\n",
        "B=np.array([1,7,1])\n",
        "\n",
        "#Compute Cross Product\n",
        "cross= np.cross (A,B)\n",
        "cross"
      ],
      "execution_count": 29,
      "outputs": [
        {
          "output_type": "execute_result",
          "data": {
            "text/plain": [
              "array([-25,   2,  11])"
            ]
          },
          "metadata": {},
          "execution_count": 29
        }
      ]
    },
    {
      "cell_type": "markdown",
      "metadata": {
        "id": "rQMC3go-0j-L"
      },
      "source": [
        "##**Dot Product**"
      ]
    },
    {
      "cell_type": "code",
      "metadata": {
        "colab": {
          "base_uri": "https://localhost:8080/"
        },
        "id": "jeXGkFdZ0kNs",
        "outputId": "4e4e4513-bb5d-4269-ea2a-d40754efc6ae"
      },
      "source": [
        "import numpy as np\n",
        "\n",
        "A=np.array([2,3])\n",
        "B=np.array([1,7])\n",
        "\n",
        "#Dot Product\n",
        "dot=np.dot(A,B)\n",
        "dot"
      ],
      "execution_count": 33,
      "outputs": [
        {
          "output_type": "execute_result",
          "data": {
            "text/plain": [
              "23"
            ]
          },
          "metadata": {},
          "execution_count": 33
        }
      ]
    }
  ]
}