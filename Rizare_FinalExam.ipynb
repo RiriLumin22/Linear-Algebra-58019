{
  "nbformat": 4,
  "nbformat_minor": 0,
  "metadata": {
    "colab": {
      "name": "Rizare_FinalExam.ipynb",
      "provenance": [],
      "authorship_tag": "ABX9TyMfPJ5BiWcajsT0gfzbdFpt",
      "include_colab_link": true
    },
    "kernelspec": {
      "name": "python3",
      "display_name": "Python 3"
    },
    "language_info": {
      "name": "python"
    }
  },
  "cells": [
    {
      "cell_type": "markdown",
      "metadata": {
        "id": "view-in-github",
        "colab_type": "text"
      },
      "source": [
        "<a href=\"https://colab.research.google.com/github/RiriLumin22/Linear-Algebra-58019/blob/main/Rizare_FinalExam.ipynb\" target=\"_parent\"><img src=\"https://colab.research.google.com/assets/colab-badge.svg\" alt=\"Open In Colab\"/></a>"
      ]
    },
    {
      "cell_type": "markdown",
      "source": [
        "##**Problem 3**##"
      ],
      "metadata": {
        "id": "z_10zHRK2Z4t"
      }
    },
    {
      "cell_type": "code",
      "execution_count": 7,
      "metadata": {
        "colab": {
          "base_uri": "https://localhost:8080/"
        },
        "id": "Eb_D2Jz5yFPo",
        "outputId": "7cf75561-0dee-4eda-f360-bf32334a556d"
      },
      "outputs": [
        {
          "output_type": "stream",
          "name": "stdout",
          "text": [
            "The numerical result is 2.350402 with error : (+-2.60947e-14)\n"
          ]
        }
      ],
      "source": [
        "from math import exp\n",
        "from scipy.integrate import quad\n",
        "def f(x):\n",
        "    return exp(x) ##define the trigonometric function\n",
        "res, err = quad(f, -1, 1) #value of summation\n",
        "print(\"The numerical result is {:f} with error : (+-{:g})\".format(res, err)) ##display the numerical result with error"
      ]
    }
  ]
}