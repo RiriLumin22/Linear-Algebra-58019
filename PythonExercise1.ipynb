{
  "nbformat": 4,
  "nbformat_minor": 0,
  "metadata": {
    "colab": {
      "name": "PythonExercise1.ipynb",
      "provenance": [],
      "authorship_tag": "ABX9TyMnSn7TVZArgLRPwSBrxlMK",
      "include_colab_link": true
    },
    "kernelspec": {
      "name": "python3",
      "display_name": "Python 3"
    },
    "language_info": {
      "name": "python"
    }
  },
  "cells": [
    {
      "cell_type": "markdown",
      "metadata": {
        "id": "view-in-github",
        "colab_type": "text"
      },
      "source": [
        "<a href=\"https://colab.research.google.com/github/RiriLumin22/Linear-Algebra-58019/blob/main/PythonExercise1.ipynb\" target=\"_parent\"><img src=\"https://colab.research.google.com/assets/colab-badge.svg\" alt=\"Open In Colab\"/></a>"
      ]
    },
    {
      "cell_type": "markdown",
      "metadata": {
        "id": "hyfg6Syi8ATu"
      },
      "source": [
        "Matrix and its Operations"
      ]
    },
    {
      "cell_type": "code",
      "metadata": {
        "colab": {
          "base_uri": "https://localhost:8080/"
        },
        "id": "lreo3Knl7_Ww",
        "outputId": "3cc9ddc5-b9da-4057-d2c0-50ed12da3be6"
      },
      "source": [
        "#Numpy\n",
        "import numpy as np\n",
        "a=np.array([[-5,0],[4,1]])\n",
        "print(a)\n",
        "print()\n",
        "b=np.array([[6,-3],[2,3]])\n",
        "print(b)\n",
        "print()\n",
        "print(a+b) #Sum=A+B\n",
        "print()\n",
        "print(b-a) #difference1=B-A\n",
        "print()\n",
        "print(a-b) #difference2=A-B"
      ],
      "execution_count": 4,
      "outputs": [
        {
          "output_type": "stream",
          "name": "stdout",
          "text": [
            "[[-5  0]\n",
            " [ 4  1]]\n",
            "\n",
            "[[ 6 -3]\n",
            " [ 2  3]]\n",
            "\n",
            "[[ 1 -3]\n",
            " [ 6  4]]\n",
            "\n",
            "[[11 -3]\n",
            " [-2  2]]\n",
            "\n",
            "[[-11   3]\n",
            " [  2  -2]]\n"
          ]
        }
      ]
    }
  ]
}