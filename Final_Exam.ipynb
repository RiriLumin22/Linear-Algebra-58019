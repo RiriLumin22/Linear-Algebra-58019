{
  "nbformat": 4,
  "nbformat_minor": 0,
  "metadata": {
    "colab": {
      "name": "Final Exam.ipynb",
      "provenance": [],
      "authorship_tag": "ABX9TyM1zmfQM798rYVRU5iX+uTU",
      "include_colab_link": true
    },
    "kernelspec": {
      "name": "python3",
      "display_name": "Python 3"
    },
    "language_info": {
      "name": "python"
    }
  },
  "cells": [
    {
      "cell_type": "markdown",
      "metadata": {
        "id": "view-in-github",
        "colab_type": "text"
      },
      "source": [
        "<a href=\"https://colab.research.google.com/github/RiriLumin22/Linear-Algebra-58019/blob/main/Final_Exam.ipynb\" target=\"_parent\"><img src=\"https://colab.research.google.com/assets/colab-badge.svg\" alt=\"Open In Colab\"/></a>"
      ]
    },
    {
      "cell_type": "markdown",
      "source": [
        "#**Final Exam**#"
      ],
      "metadata": {
        "id": "5RhMAZgSHQer"
      }
    },
    {
      "cell_type": "markdown",
      "source": [
        "##Problem 1##"
      ],
      "metadata": {
        "id": "9NbwfBumIo_h"
      }
    },
    {
      "cell_type": "code",
      "execution_count": 16,
      "metadata": {
        "id": "-mxg4wjJHPde",
        "colab": {
          "base_uri": "https://localhost:8080/"
        },
        "outputId": "bd0e7d76-aa55-4fac-c4e6-b38a6386fe9b"
      },
      "outputs": [
        {
          "output_type": "stream",
          "name": "stdout",
          "text": [
            "[[13.]\n",
            " [57.]\n",
            " [19.]]\n"
          ]
        }
      ],
      "source": [
        "eq1=np.array([[1,1,1],[1,0,4],[0,0,5]])\n",
        "eq2=np.array([[89],[89],[95]])\n",
        "amt=np.linalg.inv(eq1).dot(eq2)\n",
        "print(amt)"
      ]
    },
    {
      "cell_type": "markdown",
      "source": [
        "##Problem 2##"
      ],
      "metadata": {
        "id": "8kDpuijjJKcp"
      }
    },
    {
      "cell_type": "code",
      "source": [
        "import numpy as np\n",
        "from scipy.linalg import solve\n",
        "A=np.array([[3,-1,1],[9,-3,3],[-12,4,-4]])\n",
        "print(A)\n",
        "print()\n",
        "B=np.array([[5],[15],[-20]])\n",
        "print(B)\n",
        "print()\n",
        "\n",
        "#ERROR\n",
        "#X= solve(A,B)\n",
        "#print(X)\n",
        "\n",
        "print('ERROR: LinAlgError: Singular Matrix')\n",
        "print('This problem 2 results in an error since the determinant is 0. Thus, the inverse of the matrix does not exist.')"
      ],
      "metadata": {
        "id": "k7a3lgYiJM7-",
        "colab": {
          "base_uri": "https://localhost:8080/"
        },
        "outputId": "b011bb7e-4be8-46f6-ab69-5634d6f93fb9"
      },
      "execution_count": 22,
      "outputs": [
        {
          "output_type": "stream",
          "name": "stdout",
          "text": [
            "[[  3  -1   1]\n",
            " [  9  -3   3]\n",
            " [-12   4  -4]]\n",
            "\n",
            "[[  5]\n",
            " [ 15]\n",
            " [-20]]\n",
            "\n",
            "ERROR: LinAlgError: Singular Matrix\n",
            "This problem 2 results in an error since the determinant is 0. Thus, the inverse of the matrix does not exist.\n"
          ]
        }
      ]
    },
    {
      "cell_type": "markdown",
      "source": [
        "##Problem 3##"
      ],
      "metadata": {
        "id": "siP6399_JNcV"
      }
    },
    {
      "cell_type": "code",
      "source": [
        "import numpy as np\n",
        "from numpy.linalg import eig\n",
        "\n",
        "A = np.array([[8, 5, -6],[-12, -9, 12],[-3, -3, 5]])\n",
        "print(A)\n",
        "print()\n",
        "w,v = np.linalg.eig(A)\n",
        "print(\"The Eigenvalues are:\\n\",w)\n",
        "print()\n",
        "print(\"The Eigenvectors are:\\n\",v.round())"
      ],
      "metadata": {
        "colab": {
          "base_uri": "https://localhost:8080/"
        },
        "id": "rop87k_tJVzK",
        "outputId": "78e688a1-3c32-4602-fcfc-8354b503a018"
      },
      "execution_count": 7,
      "outputs": [
        {
          "output_type": "stream",
          "name": "stdout",
          "text": [
            "[[  8   5  -6]\n",
            " [-12  -9  12]\n",
            " [ -3  -3   5]]\n",
            "\n",
            "The Eigenvalues are:\n",
            " [-1.  3.  2.]\n",
            "\n",
            "The Eigenvectors are:\n",
            " [[ 0. -1.  1.]\n",
            " [-1.  1.  0.]\n",
            " [-0. -0.  1.]]\n"
          ]
        }
      ]
    }
  ]
}